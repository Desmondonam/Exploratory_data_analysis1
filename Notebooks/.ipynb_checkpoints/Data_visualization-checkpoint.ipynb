{
 "cells": [
  {
   "cell_type": "code",
   "execution_count": 1,
   "id": "08dc287a",
   "metadata": {},
   "outputs": [],
   "source": [
    "import pandas as pd\n",
    "import numpy as np"
   ]
  },
  {
   "cell_type": "code",
   "execution_count": 2,
   "id": "62a8aaad",
   "metadata": {},
   "outputs": [],
   "source": [
    "# import dataset\n",
    "data = pd.read_csv(r\"C:\\Users\\Admin\\Desktop\\Desmondonam\\Denaco Analytics\\Python, MySQL, ML\\Week 5-20240203T161326Z-001\\Week 5\\Scripts\\data.csv\")"
   ]
  },
  {
   "cell_type": "code",
   "execution_count": 3,
   "id": "d09fe4aa",
   "metadata": {},
   "outputs": [
    {
     "data": {
      "text/html": [
       "<div>\n",
       "<style scoped>\n",
       "    .dataframe tbody tr th:only-of-type {\n",
       "        vertical-align: middle;\n",
       "    }\n",
       "\n",
       "    .dataframe tbody tr th {\n",
       "        vertical-align: top;\n",
       "    }\n",
       "\n",
       "    .dataframe thead th {\n",
       "        text-align: right;\n",
       "    }\n",
       "</style>\n",
       "<table border=\"1\" class=\"dataframe\">\n",
       "  <thead>\n",
       "    <tr style=\"text-align: right;\">\n",
       "      <th></th>\n",
       "      <th>ID</th>\n",
       "      <th>Age</th>\n",
       "      <th>Income</th>\n",
       "      <th>Gender</th>\n",
       "      <th>City</th>\n",
       "      <th>Product_Type</th>\n",
       "      <th>Purchase_Amount</th>\n",
       "    </tr>\n",
       "  </thead>\n",
       "  <tbody>\n",
       "    <tr>\n",
       "      <th>0</th>\n",
       "      <td>1</td>\n",
       "      <td>37.483571</td>\n",
       "      <td>NaN</td>\n",
       "      <td>Female</td>\n",
       "      <td>CityA</td>\n",
       "      <td>B</td>\n",
       "      <td>1284.100850</td>\n",
       "    </tr>\n",
       "    <tr>\n",
       "      <th>1</th>\n",
       "      <td>2</td>\n",
       "      <td>34.308678</td>\n",
       "      <td>59178.619471</td>\n",
       "      <td>Female</td>\n",
       "      <td>CityC</td>\n",
       "      <td>B</td>\n",
       "      <td>885.850741</td>\n",
       "    </tr>\n",
       "    <tr>\n",
       "      <th>2</th>\n",
       "      <td>3</td>\n",
       "      <td>38.238443</td>\n",
       "      <td>71221.561970</td>\n",
       "      <td>Female</td>\n",
       "      <td>CityB</td>\n",
       "      <td>A</td>\n",
       "      <td>833.528885</td>\n",
       "    </tr>\n",
       "    <tr>\n",
       "      <th>3</th>\n",
       "      <td>4</td>\n",
       "      <td>42.615149</td>\n",
       "      <td>60324.652606</td>\n",
       "      <td>NaN</td>\n",
       "      <td>CityB</td>\n",
       "      <td>C</td>\n",
       "      <td>1094.283111</td>\n",
       "    </tr>\n",
       "    <tr>\n",
       "      <th>4</th>\n",
       "      <td>5</td>\n",
       "      <td>33.829233</td>\n",
       "      <td>34806.300340</td>\n",
       "      <td>Female</td>\n",
       "      <td>CityB</td>\n",
       "      <td>A</td>\n",
       "      <td>889.555391</td>\n",
       "    </tr>\n",
       "  </tbody>\n",
       "</table>\n",
       "</div>"
      ],
      "text/plain": [
       "   ID        Age        Income  Gender   City Product_Type  Purchase_Amount\n",
       "0   1  37.483571           NaN  Female  CityA            B      1284.100850\n",
       "1   2  34.308678  59178.619471  Female  CityC            B       885.850741\n",
       "2   3  38.238443  71221.561970  Female  CityB            A       833.528885\n",
       "3   4  42.615149  60324.652606     NaN  CityB            C      1094.283111\n",
       "4   5  33.829233  34806.300340  Female  CityB            A       889.555391"
      ]
     },
     "execution_count": 3,
     "metadata": {},
     "output_type": "execute_result"
    }
   ],
   "source": [
    "data.head()"
   ]
  },
  {
   "cell_type": "code",
   "execution_count": null,
   "id": "d15e556a",
   "metadata": {},
   "outputs": [],
   "source": []
  }
 ],
 "metadata": {
  "kernelspec": {
   "display_name": "Python 3 (ipykernel)",
   "language": "python",
   "name": "python3"
  },
  "language_info": {
   "codemirror_mode": {
    "name": "ipython",
    "version": 3
   },
   "file_extension": ".py",
   "mimetype": "text/x-python",
   "name": "python",
   "nbconvert_exporter": "python",
   "pygments_lexer": "ipython3",
   "version": "3.11.5"
  }
 },
 "nbformat": 4,
 "nbformat_minor": 5
}
